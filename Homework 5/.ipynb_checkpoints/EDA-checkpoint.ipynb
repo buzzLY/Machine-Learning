{
 "cells": [
  {
   "cell_type": "code",
   "execution_count": 1,
   "metadata": {},
   "outputs": [],
   "source": [
    "import pandas as pd\n",
    "import numpy as np\n",
    "import pandas_profiling\n",
    "from sklearn.model_selection import cross_val_score\n",
    "from sklearn import datasets, linear_model\n",
    "from sklearn.model_selection import train_test_split\n",
    "from sklearn.metrics import mean_squared_error, r2_score\n",
    "from sklearn.tree import DecisionTreeRegressor\n",
    "from sklearn.utils import shuffle\n",
    "#np.set_printoptions(threshold=np.nan)"
   ]
  },
  {
   "cell_type": "code",
   "execution_count": 2,
   "metadata": {},
   "outputs": [
    {
     "data": {
      "text/html": [
       "<div>\n",
       "<style scoped>\n",
       "    .dataframe tbody tr th:only-of-type {\n",
       "        vertical-align: middle;\n",
       "    }\n",
       "\n",
       "    .dataframe tbody tr th {\n",
       "        vertical-align: top;\n",
       "    }\n",
       "\n",
       "    .dataframe thead th {\n",
       "        text-align: right;\n",
       "    }\n",
       "</style>\n",
       "<table border=\"1\" class=\"dataframe\">\n",
       "  <thead>\n",
       "    <tr style=\"text-align: right;\">\n",
       "      <th></th>\n",
       "      <th>UID</th>\n",
       "      <th>DAY_OF_WEEK</th>\n",
       "      <th>CRS_DEP_TIME</th>\n",
       "      <th>TAXI_OUT</th>\n",
       "      <th>TAXI_IN</th>\n",
       "      <th>ACTUAL_ELAPSED_TIME</th>\n",
       "      <th>DISTANCE</th>\n",
       "      <th>DISTANCE_GROUP</th>\n",
       "      <th>AIRLINE_ID</th>\n",
       "      <th>FL_DATE</th>\n",
       "      <th>...</th>\n",
       "      <th>FL_NUM</th>\n",
       "      <th>UNIQUE_CARRIER</th>\n",
       "      <th>ORIGIN</th>\n",
       "      <th>ORIGIN_CITY_NAME</th>\n",
       "      <th>ORIGIN_STATE_ABR</th>\n",
       "      <th>DEST</th>\n",
       "      <th>DEST_CITY_NAME</th>\n",
       "      <th>DEST_STATE_ABR</th>\n",
       "      <th>FIRST_DEP_TIME</th>\n",
       "      <th>ARR_DELAY</th>\n",
       "    </tr>\n",
       "  </thead>\n",
       "  <tbody>\n",
       "    <tr>\n",
       "      <th>0</th>\n",
       "      <td>0</td>\n",
       "      <td>2</td>\n",
       "      <td>1020</td>\n",
       "      <td>11</td>\n",
       "      <td>8</td>\n",
       "      <td>373</td>\n",
       "      <td>2701</td>\n",
       "      <td>11</td>\n",
       "      <td>19930</td>\n",
       "      <td>1/3/17</td>\n",
       "      <td>...</td>\n",
       "      <td>879</td>\n",
       "      <td>AS</td>\n",
       "      <td>SEA</td>\n",
       "      <td>Seattle, WA</td>\n",
       "      <td>WA</td>\n",
       "      <td>LIH</td>\n",
       "      <td>Lihue, HI</td>\n",
       "      <td>HI</td>\n",
       "      <td>NaN</td>\n",
       "      <td>-11</td>\n",
       "    </tr>\n",
       "    <tr>\n",
       "      <th>1</th>\n",
       "      <td>1</td>\n",
       "      <td>6</td>\n",
       "      <td>1220</td>\n",
       "      <td>13</td>\n",
       "      <td>9</td>\n",
       "      <td>183</td>\n",
       "      <td>1171</td>\n",
       "      <td>5</td>\n",
       "      <td>19805</td>\n",
       "      <td>1/28/17</td>\n",
       "      <td>...</td>\n",
       "      <td>2491</td>\n",
       "      <td>AA</td>\n",
       "      <td>SAN</td>\n",
       "      <td>San Diego, CA</td>\n",
       "      <td>CA</td>\n",
       "      <td>DFW</td>\n",
       "      <td>Dallas/Fort Worth, TX</td>\n",
       "      <td>TX</td>\n",
       "      <td>NaN</td>\n",
       "      <td>1</td>\n",
       "    </tr>\n",
       "    <tr>\n",
       "      <th>2</th>\n",
       "      <td>2</td>\n",
       "      <td>6</td>\n",
       "      <td>945</td>\n",
       "      <td>48</td>\n",
       "      <td>6</td>\n",
       "      <td>355</td>\n",
       "      <td>2552</td>\n",
       "      <td>11</td>\n",
       "      <td>19930</td>\n",
       "      <td>1/21/17</td>\n",
       "      <td>...</td>\n",
       "      <td>172</td>\n",
       "      <td>AS</td>\n",
       "      <td>ANC</td>\n",
       "      <td>Anchorage, AK</td>\n",
       "      <td>AK</td>\n",
       "      <td>PHX</td>\n",
       "      <td>Phoenix, AZ</td>\n",
       "      <td>AZ</td>\n",
       "      <td>NaN</td>\n",
       "      <td>18</td>\n",
       "    </tr>\n",
       "    <tr>\n",
       "      <th>3</th>\n",
       "      <td>3</td>\n",
       "      <td>1</td>\n",
       "      <td>1437</td>\n",
       "      <td>17</td>\n",
       "      <td>8</td>\n",
       "      <td>136</td>\n",
       "      <td>967</td>\n",
       "      <td>4</td>\n",
       "      <td>19977</td>\n",
       "      <td>1/23/17</td>\n",
       "      <td>...</td>\n",
       "      <td>2030</td>\n",
       "      <td>UA</td>\n",
       "      <td>SFO</td>\n",
       "      <td>San Francisco, CA</td>\n",
       "      <td>CA</td>\n",
       "      <td>DEN</td>\n",
       "      <td>Denver, CO</td>\n",
       "      <td>CO</td>\n",
       "      <td>NaN</td>\n",
       "      <td>0</td>\n",
       "    </tr>\n",
       "    <tr>\n",
       "      <th>4</th>\n",
       "      <td>4</td>\n",
       "      <td>1</td>\n",
       "      <td>830</td>\n",
       "      <td>37</td>\n",
       "      <td>7</td>\n",
       "      <td>114</td>\n",
       "      <td>534</td>\n",
       "      <td>3</td>\n",
       "      <td>19393</td>\n",
       "      <td>1/2/17</td>\n",
       "      <td>...</td>\n",
       "      <td>3812</td>\n",
       "      <td>WN</td>\n",
       "      <td>ATL</td>\n",
       "      <td>Atlanta, GA</td>\n",
       "      <td>GA</td>\n",
       "      <td>IAD</td>\n",
       "      <td>Washington, DC</td>\n",
       "      <td>VA</td>\n",
       "      <td>NaN</td>\n",
       "      <td>197</td>\n",
       "    </tr>\n",
       "  </tbody>\n",
       "</table>\n",
       "<p>5 rows × 22 columns</p>\n",
       "</div>"
      ],
      "text/plain": [
       "   UID  DAY_OF_WEEK  CRS_DEP_TIME  TAXI_OUT  TAXI_IN  ACTUAL_ELAPSED_TIME  \\\n",
       "0    0            2          1020        11        8                  373   \n",
       "1    1            6          1220        13        9                  183   \n",
       "2    2            6           945        48        6                  355   \n",
       "3    3            1          1437        17        8                  136   \n",
       "4    4            1           830        37        7                  114   \n",
       "\n",
       "   DISTANCE  DISTANCE_GROUP  AIRLINE_ID  FL_DATE    ...     FL_NUM  \\\n",
       "0      2701              11       19930   1/3/17    ...        879   \n",
       "1      1171               5       19805  1/28/17    ...       2491   \n",
       "2      2552              11       19930  1/21/17    ...        172   \n",
       "3       967               4       19977  1/23/17    ...       2030   \n",
       "4       534               3       19393   1/2/17    ...       3812   \n",
       "\n",
       "   UNIQUE_CARRIER  ORIGIN   ORIGIN_CITY_NAME ORIGIN_STATE_ABR DEST  \\\n",
       "0              AS     SEA        Seattle, WA               WA  LIH   \n",
       "1              AA     SAN      San Diego, CA               CA  DFW   \n",
       "2              AS     ANC      Anchorage, AK               AK  PHX   \n",
       "3              UA     SFO  San Francisco, CA               CA  DEN   \n",
       "4              WN     ATL        Atlanta, GA               GA  IAD   \n",
       "\n",
       "          DEST_CITY_NAME DEST_STATE_ABR FIRST_DEP_TIME ARR_DELAY  \n",
       "0              Lihue, HI             HI            NaN       -11  \n",
       "1  Dallas/Fort Worth, TX             TX            NaN         1  \n",
       "2            Phoenix, AZ             AZ            NaN        18  \n",
       "3             Denver, CO             CO            NaN         0  \n",
       "4         Washington, DC             VA            NaN       197  \n",
       "\n",
       "[5 rows x 22 columns]"
      ]
     },
     "execution_count": 2,
     "metadata": {},
     "output_type": "execute_result"
    }
   ],
   "source": [
    "train = pd.read_csv(\"flights_train.csv\",thousands=',')\n",
    "train.head()"
   ]
  },
  {
   "cell_type": "code",
   "execution_count": 3,
   "metadata": {},
   "outputs": [
    {
     "data": {
      "text/plain": [
       "(4911, 22)"
      ]
     },
     "execution_count": 3,
     "metadata": {},
     "output_type": "execute_result"
    }
   ],
   "source": [
    "train.shape"
   ]
  },
  {
   "cell_type": "code",
   "execution_count": 4,
   "metadata": {},
   "outputs": [],
   "source": [
    "#pandas_profiling.ProfileReport(train)"
   ]
  },
  {
   "cell_type": "code",
   "execution_count": 5,
   "metadata": {},
   "outputs": [],
   "source": [
    "# dropping columns with high categorical values and highly correlated columns\n",
    "#\n",
    "#DESTDEST has a high cardinality: 228 distinct values Warning\n",
    "#DEST_CITY_NAME has a high cardinality: 224 distinct values Warning\n",
    "#DISTANCE has a high cardinality: 1020 distinct values Warning\n",
    "#DISTANCE_GROUP is highly correlated with ACTUAL_ELAPSED_TIME (ρ = 0.96165) Rejected\n",
    "#FIRST_DEP_TIME has 4882 / 100.0% missing values Missing\n",
    "#FL_DATE has a high cardinality: 365 distinct values Warning\n",
    "#ORIGIN has a high cardinality: 239 distinct values Warning\n",
    "#ORIGIN_CITY_NAME has a high cardinality: 235 distinct values Warning\n",
    "\n",
    "\n",
    "def dropHighCategoricalColumns(train):\n",
    "    train = train.drop(columns=['ORIGIN_STATE_ABR','UNIQUE_CARRIER','DEST_STATE_ABR','UID','DEST','DEST_CITY_NAME','DISTANCE_GROUP','FIRST_DEP_TIME','FL_DATE','ORIGIN','ORIGIN_CITY_NAME','ACTUAL_ELAPSED_TIME','CRS_DEP_TIME'])\n",
    "    return train\n",
    "\n",
    "\n",
    "train = dropHighCategoricalColumns(train)\n",
    "\n"
   ]
  },
  {
   "cell_type": "code",
   "execution_count": 6,
   "metadata": {
    "scrolled": false
   },
   "outputs": [],
   "source": [
    "test = pd.read_csv(\"flights_test.csv\",thousands=',')\n",
    "test = dropHighCategoricalColumns(test)"
   ]
  },
  {
   "cell_type": "code",
   "execution_count": 7,
   "metadata": {
    "scrolled": false
   },
   "outputs": [],
   "source": [
    "def oneHotEncoding(df,feature):\n",
    "    dummies = pd.get_dummies(df[feature], prefix=feature)\n",
    "    df = pd.concat([df,dummies],axis=1)\n",
    "    df = df.drop([feature],axis=1)\n",
    "    return df\n",
    "\n",
    "# one hot encoding for various features\n",
    "#train = oneHotEncoding(train,'DEST_STATE_ABR')\n",
    "#test = oneHotEncoding(test,'DEST_STATE_ABR')\n",
    "#train = oneHotEncoding(train,'UNIQUE_CARRIER')\n",
    "#test = oneHotEncoding(test,'UNIQUE_CARRIER')\n",
    "#train = oneHotEncoding(train,'ORIGIN_STATE_ABR')\n",
    "#test = oneHotEncoding(test,'ORIGIN_STATE_ABR')\n",
    "#train = oneHotEncoding(train,'DAY_OF_WEEK')\n",
    "#test = oneHotEncoding(test,'DAY_OF_WEEK')\n",
    "#train = oneHotEncoding(train,'AIRLINE_ID')\n",
    "#test = oneHotEncoding(test,'AIRLINE_ID')\n",
    "#missing_cols = set( train.columns ) - set( test.columns )\n",
    "#for c in missing_cols:\n",
    "#    test[c] = 0\n",
    "#test = test[train.columns]"
   ]
  },
  {
   "cell_type": "code",
   "execution_count": 8,
   "metadata": {},
   "outputs": [
    {
     "data": {
      "text/html": [
       "<div>\n",
       "<style scoped>\n",
       "    .dataframe tbody tr th:only-of-type {\n",
       "        vertical-align: middle;\n",
       "    }\n",
       "\n",
       "    .dataframe tbody tr th {\n",
       "        vertical-align: top;\n",
       "    }\n",
       "\n",
       "    .dataframe thead th {\n",
       "        text-align: right;\n",
       "    }\n",
       "</style>\n",
       "<table border=\"1\" class=\"dataframe\">\n",
       "  <thead>\n",
       "    <tr style=\"text-align: right;\">\n",
       "      <th></th>\n",
       "      <th>DAY_OF_WEEK</th>\n",
       "      <th>TAXI_OUT</th>\n",
       "      <th>TAXI_IN</th>\n",
       "      <th>DISTANCE</th>\n",
       "      <th>AIRLINE_ID</th>\n",
       "      <th>ORIGIN_CITY_MARKET_ID</th>\n",
       "      <th>DEST_CITY_MARKET_ID</th>\n",
       "      <th>FL_NUM</th>\n",
       "      <th>ARR_DELAY</th>\n",
       "    </tr>\n",
       "  </thead>\n",
       "  <tbody>\n",
       "    <tr>\n",
       "      <th>0</th>\n",
       "      <td>2</td>\n",
       "      <td>11</td>\n",
       "      <td>8</td>\n",
       "      <td>2701</td>\n",
       "      <td>19930</td>\n",
       "      <td>30559</td>\n",
       "      <td>32982</td>\n",
       "      <td>879</td>\n",
       "      <td>-11</td>\n",
       "    </tr>\n",
       "    <tr>\n",
       "      <th>1</th>\n",
       "      <td>6</td>\n",
       "      <td>13</td>\n",
       "      <td>9</td>\n",
       "      <td>1171</td>\n",
       "      <td>19805</td>\n",
       "      <td>33570</td>\n",
       "      <td>30194</td>\n",
       "      <td>2491</td>\n",
       "      <td>1</td>\n",
       "    </tr>\n",
       "    <tr>\n",
       "      <th>2</th>\n",
       "      <td>6</td>\n",
       "      <td>48</td>\n",
       "      <td>6</td>\n",
       "      <td>2552</td>\n",
       "      <td>19930</td>\n",
       "      <td>30299</td>\n",
       "      <td>30466</td>\n",
       "      <td>172</td>\n",
       "      <td>18</td>\n",
       "    </tr>\n",
       "    <tr>\n",
       "      <th>3</th>\n",
       "      <td>1</td>\n",
       "      <td>17</td>\n",
       "      <td>8</td>\n",
       "      <td>967</td>\n",
       "      <td>19977</td>\n",
       "      <td>32457</td>\n",
       "      <td>30325</td>\n",
       "      <td>2030</td>\n",
       "      <td>0</td>\n",
       "    </tr>\n",
       "    <tr>\n",
       "      <th>4</th>\n",
       "      <td>1</td>\n",
       "      <td>37</td>\n",
       "      <td>7</td>\n",
       "      <td>534</td>\n",
       "      <td>19393</td>\n",
       "      <td>30397</td>\n",
       "      <td>30852</td>\n",
       "      <td>3812</td>\n",
       "      <td>197</td>\n",
       "    </tr>\n",
       "  </tbody>\n",
       "</table>\n",
       "</div>"
      ],
      "text/plain": [
       "   DAY_OF_WEEK  TAXI_OUT  TAXI_IN  DISTANCE  AIRLINE_ID  \\\n",
       "0            2        11        8      2701       19930   \n",
       "1            6        13        9      1171       19805   \n",
       "2            6        48        6      2552       19930   \n",
       "3            1        17        8       967       19977   \n",
       "4            1        37        7       534       19393   \n",
       "\n",
       "   ORIGIN_CITY_MARKET_ID  DEST_CITY_MARKET_ID  FL_NUM  ARR_DELAY  \n",
       "0                  30559                32982     879        -11  \n",
       "1                  33570                30194    2491          1  \n",
       "2                  30299                30466     172         18  \n",
       "3                  32457                30325    2030          0  \n",
       "4                  30397                30852    3812        197  "
      ]
     },
     "execution_count": 8,
     "metadata": {},
     "output_type": "execute_result"
    }
   ],
   "source": [
    "train.head()"
   ]
  },
  {
   "cell_type": "code",
   "execution_count": 9,
   "metadata": {},
   "outputs": [],
   "source": [
    "train = shuffle(train)\n",
    "Y = train['ARR_DELAY']\n",
    "Y.values.reshape(train.shape[0],1)\n",
    "train = train.drop(['ARR_DELAY'],axis = 1)"
   ]
  },
  {
   "cell_type": "code",
   "execution_count": 10,
   "metadata": {},
   "outputs": [],
   "source": [
    "#X_train, X_test, y_train, y_test = train_test_split(train, Y, test_size=0.20, random_state=1)"
   ]
  },
  {
   "cell_type": "code",
   "execution_count": 11,
   "metadata": {},
   "outputs": [],
   "source": [
    "regr = linear_model.LinearRegression(fit_intercept = True, normalize = True)\n",
    "#regr.fit(X_train, y_train)"
   ]
  },
  {
   "cell_type": "code",
   "execution_count": 12,
   "metadata": {},
   "outputs": [],
   "source": [
    "#y_pred = regr.predict(X_test)"
   ]
  },
  {
   "cell_type": "code",
   "execution_count": 13,
   "metadata": {},
   "outputs": [],
   "source": [
    "#print('Coefficients: \\n', regr.coef_)"
   ]
  },
  {
   "cell_type": "code",
   "execution_count": 14,
   "metadata": {},
   "outputs": [],
   "source": [
    "#print(\"Mean squared error: %.2f\"\n",
    "#      % mean_squared_error(y_pred,y_test))"
   ]
  },
  {
   "cell_type": "code",
   "execution_count": 15,
   "metadata": {},
   "outputs": [
    {
     "data": {
      "text/plain": [
       "(4911, 8)"
      ]
     },
     "execution_count": 15,
     "metadata": {},
     "output_type": "execute_result"
    }
   ],
   "source": [
    "#print('Variance score: %.2f' % r2_score(y_test, y_pred))\n",
    "train.shape"
   ]
  },
  {
   "cell_type": "code",
   "execution_count": 16,
   "metadata": {},
   "outputs": [],
   "source": [
    "scores = cross_val_score(regr, train.iloc[:,:19], Y, cv=5,scoring='neg_mean_squared_error')"
   ]
  },
  {
   "cell_type": "code",
   "execution_count": 17,
   "metadata": {},
   "outputs": [
    {
     "name": "stdout",
     "output_type": "stream",
     "text": [
      "1947.31915049\n"
     ]
    }
   ],
   "source": [
    "print -1*np.mean(scores)"
   ]
  },
  {
   "cell_type": "code",
   "execution_count": 21,
   "metadata": {},
   "outputs": [],
   "source": [
    "decisionTree = DecisionTreeRegressor(max_features='sqrt', splitter='random', min_samples_split=4, max_depth=3)\n",
    "#decisionTree.fit(train, Y)\n",
    "#y_pred = decisionTree.predict(test)"
   ]
  },
  {
   "cell_type": "code",
   "execution_count": 22,
   "metadata": {},
   "outputs": [],
   "source": [
    "scores = cross_val_score(decisionTree, train, Y, cv=5,scoring='neg_mean_squared_error')"
   ]
  },
  {
   "cell_type": "code",
   "execution_count": null,
   "metadata": {},
   "outputs": [],
   "source": []
  }
 ],
 "metadata": {
  "kernelspec": {
   "display_name": "Python 2",
   "language": "python",
   "name": "python2"
  },
  "language_info": {
   "codemirror_mode": {
    "name": "ipython",
    "version": 2
   },
   "file_extension": ".py",
   "mimetype": "text/x-python",
   "name": "python",
   "nbconvert_exporter": "python",
   "pygments_lexer": "ipython2",
   "version": "2.7.14"
  }
 },
 "nbformat": 4,
 "nbformat_minor": 2
}
